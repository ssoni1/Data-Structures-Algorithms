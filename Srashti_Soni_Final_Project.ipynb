{
  "nbformat": 4,
  "nbformat_minor": 0,
  "metadata": {
    "colab": {
      "provenance": []
    },
    "kernelspec": {
      "name": "python3",
      "display_name": "Python 3"
    },
    "language_info": {
      "name": "python"
    }
  },
  "cells": [
    {
      "cell_type": "markdown",
      "source": [
        "##Airport Management System<br>\n",
        "In this project, I will be implementing an airport management system using OOP principles such as inheritance and polymorphism. Also, I will be using optimized searching and sorting algorithms to search the flight or to list the number of flights and passengers etc. Below are the classes which will be used to develop a management system.\n",
        "\n",
        "Classes:\n",
        "  1. Person: This is a base class which contains general information about a person.\n",
        "  2. Passenger: This is a child class of a Person which will represent a passenger. It will contain information about a specific passenger such as their name, age, gender, and flight information.\n",
        "  3. Employee: This is a child class of base class person.\n",
        "  4. Airport: This is a parent class which will represent the airport. This class contains general information about the airport such as its name, number of runways, locations, and number of gates.\n",
        "  5. Flight: This is a child class which will represent a flight. This class will contain information about the specific flight such as its flight number, departure time, arrival time, origin, and destination etc.\n",
        "  \n",
        "We will be implementing two methods:\n",
        "  1. Search flight by number: This method will help us to search for a flight in the airport's list of flights by its flight number and will return the flight object if found.\n",
        "  2. Sort flights by departure time: This method will sort the airport's list of flight by departure time using the merge sort algorithm.\n",
        "  \n",
        "Optimized Searching and Sorting Algorithms:\n",
        "1. Binary Search: This algorithm is used to search for a specific flight by its flight number. Since the list of flights will already be sorted by flight number, binary search will provide an efficient way to search for a specific flight in O (log n) time complexity.\n",
        "2. Merge Sort: The time complexity of merge sort is O(n log n), where n is the number of elements in the list. This is because the algorithm divides the list into halves recursively, sorts each half, and then merges the sorted halves."
      ],
      "metadata": {
        "id": "ydNtR4jK4k2q"
      }
    },
    {
      "cell_type": "markdown",
      "source": [
        "####Person Class: Base Class\n",
        "Person represents a person with its basic information like name, age, gender and contact number"
      ],
      "metadata": {
        "id": "04gI1ykE41Ri"
      }
    },
    {
      "cell_type": "code",
      "source": [
        "class Person:\n",
        "    def __init__(self, name, age, gender, contact_no):\n",
        "        self.name = name\n",
        "        self.age = age\n",
        "        self.gender = gender\n",
        "        self.contact = contact_no"
      ],
      "metadata": {
        "id": "Vu5Ij0ibq3xz"
      },
      "execution_count": 1,
      "outputs": []
    },
    {
      "cell_type": "markdown",
      "source": [
        "####Passenger Class: Derived Class of  Person\n",
        "This class represents a passenger details like name, age, gender and contact number"
      ],
      "metadata": {
        "id": "cu8K6DGu48vG"
      }
    },
    {
      "cell_type": "code",
      "source": [
        "class Passenger(Person):\n",
        "    def __init__(self, name, age, gender, contact_no, passport_num):\n",
        "        super().__init__(name, age, gender, contact_no)\n",
        "        self.passport_num = passport_num"
      ],
      "metadata": {
        "id": "gM-nNXhe48RS"
      },
      "execution_count": 2,
      "outputs": []
    },
    {
      "cell_type": "markdown",
      "source": [
        "####Employee Class: Derived Class of Person\n",
        "This class represents the employee details of the airport employee"
      ],
      "metadata": {
        "id": "fuB2CODW5Wl4"
      }
    },
    {
      "cell_type": "code",
      "source": [
        "class Employee(Person):\n",
        "    def __init__(self, name, age, gender, contact_no, emp_no):\n",
        "        super().__init__(name, age, gender, contact_no)\n",
        "        self.emp_no = emp_no"
      ],
      "metadata": {
        "id": "rYstEZbj5Pka"
      },
      "execution_count": 3,
      "outputs": []
    },
    {
      "cell_type": "markdown",
      "source": [
        "####Flight Class\n",
        "This class contains information about a specific flight, such as its flight number, airline, source, destination and departure and arrival airports, time. It has methods to add and remove passengers, and to search for passengers based on their names."
      ],
      "metadata": {
        "id": "-N3mNZdF5n6G"
      }
    },
    {
      "cell_type": "code",
      "source": [
        "class Flight:\n",
        "    def __init__(self, flight_no, airline, source, destination, departure_time, arrival_time):\n",
        "        self.flight_no = flight_no\n",
        "        self.airline = airline\n",
        "        self.source = source\n",
        "        self.destination = destination\n",
        "        self.departure_time = departure_time\n",
        "        self.arrival_time = arrival_time\n",
        "        self.passengers = []\n",
        "\n",
        " #method to add a new passenger into the flight\n",
        "    def add_passenger(self, passenger):    \n",
        "      #Exception handling\n",
        "      if not isinstance(passenger, Passenger):\n",
        "        raise TypeError(\"Object Passenger expected!\")\n",
        "      self.passengers.append(passenger)\n",
        "\n",
        " #method to remove a passenger from the flight\n",
        "    def remove_passenger(self, passenger):\n",
        "      #Exception handling\n",
        "      if not isinstance(passenger, Passenger):\n",
        "        raise TypeError(\"Object Passenger expected!\")\n",
        "        self.passengers.remove(passenger)\n",
        "        print(\"Passenger\", passenger.name, \"has been added to the flight.\")\n",
        "\n",
        " #method to get a passenger by its name\n",
        "    def get_passenger_by_name(self, name):\n",
        "      #Exception handling\n",
        "      if not self.passengers:\n",
        "        raise ValueError(\"Flight is Empty: no Passengers found!\")\n",
        "\n",
        "      for passenger in self.passengers:\n",
        "        if passenger.name == name:\n",
        "           return passenger\n",
        "        return None"
      ],
      "metadata": {
        "id": "t_EK_Zee5h64"
      },
      "execution_count": 4,
      "outputs": []
    },
    {
      "cell_type": "markdown",
      "source": [
        "####Airport Class\n",
        "This class contains information about the airport, such as its name, location, and a list of flights that arrive and depart from the airport. It has methods to add and remove flights, and to sort and search for flights based on flight numbers."
      ],
      "metadata": {
        "id": "wYr-2MdM5rt_"
      }
    },
    {
      "cell_type": "code",
      "source": [
        "class Airport:\n",
        "    def __init__(self, name, location, flights=None):\n",
        "        self.name = name\n",
        "        self.location = location\n",
        "        if flights is None:\n",
        "          self.flights = []\n",
        "        else:\n",
        "          self.flights = flights\n",
        "\n",
        "    def add_flight(self, flight):\n",
        "      #Exception handling\n",
        "      if not isinstance(flight, Flight):\n",
        "        raise TypeError(\"Object flight expected!\")\n",
        "      self.flights.append(flight)\n",
        "\n",
        "    def remove_flight(self, flight):\n",
        "        self.flights.remove(flight)\n",
        "\n",
        "    def get_flights(self):\n",
        "        return self.flights\n",
        "\n",
        "    def add_passenger(self, flight, passenger):\n",
        "      if flight in self.flights:\n",
        "          flight.add_passenger(passenger)\n",
        "      else:\n",
        "        print(f\"Flight {flight.flight_no} not found in {self.name}\")\n",
        "\n",
        "    def search_flight_by_num(self, flight_no):\n",
        "      #Exception handling\n",
        "      if not self.flights:\n",
        "            raise ValueError(\"No flights available!\")\n",
        "      # implementing binary search algorithm to search a flight from the list of flights\n",
        "      left = 0\n",
        "      right = len(self.flights) - 1\n",
        "      while left <= right:\n",
        "          mid = (left + right) // 2\n",
        "          if self.flights[mid].flight_no == flight_no:\n",
        "              flight = self.flights[mid]\n",
        "              return f\"Flight No: {flight.flight_no}\\nAirline: {flight.airline}\\nSource: {flight.source}\\nDestination: {flight.destination}\\nDeparture Time: {flight.departure_time}\\nArrival Time: {flight.arrival_time}\"\n",
        "          elif self.flights[mid].flight_no < flight_no:\n",
        "              left = mid + 1\n",
        "          else:\n",
        "              right = mid - 1\n",
        "      return \"Flight not found!\"\n",
        "\n",
        "    def sort_flights(self):\n",
        "      #Exception handling\n",
        "      if not self.flights:\n",
        "            raise ValueError(\"No flights available!\")\n",
        "      #implementing merge sort to impute the sorted list of flights according to flight number\n",
        "      if len(self.flights) > 1:\n",
        "          mid = len(self.flights) // 2\n",
        "          left_half = self.flights[:mid]\n",
        "          right_half = self.flights[mid:]\n",
        "          \n",
        "          left_airport = Airport(self.name, self.location)\n",
        "          left_airport.flights = left_half\n",
        "          left_airport.sort_flights()\n",
        "          \n",
        "          right_airport = Airport(self.name, self.location)\n",
        "          right_airport.flights = right_half\n",
        "          right_airport.sort_flights()\n",
        "\n",
        "          i = j = k = 0\n",
        "          while i < len(left_half) and j < len(right_half):\n",
        "              if left_half[i].flight_no < right_half[j].departure_time:\n",
        "                  self.flights[k] = left_half[i]\n",
        "                  i += 1\n",
        "              else:\n",
        "                  self.flights[k] = right_half[j]\n",
        "                  j += 1\n",
        "              k += 1\n",
        "\n",
        "          while i < len(left_half):\n",
        "              self.flights[k] = left_half[i]\n",
        "              i += 1\n",
        "              k += 1\n",
        "\n",
        "          while j < len(right_half):\n",
        "              self.flights[k] = right_half[j]\n",
        "              j += 1\n",
        "              k += 1\n",
        "\n",
        "        # create a list of flight details sorted by departure time\n",
        "      flight_details = []\n",
        "      for flight in self.flights:\n",
        "          flight_details.append((flight.flight_no, flight.airline, flight.source, flight.destination, flight.departure_time, flight.arrival_time))\n",
        "\n",
        "      return flight_details\n",
        "      "
      ],
      "metadata": {
        "id": "JxCXEv3D5rCO"
      },
      "execution_count": 5,
      "outputs": []
    },
    {
      "cell_type": "markdown",
      "source": [
        "####Test Cases"
      ],
      "metadata": {
        "id": "i50FuvSr6Bws"
      }
    },
    {
      "cell_type": "code",
      "source": [
        "# creating passengers for the flights\n",
        "p1 = Passenger(\"Ajay\", 35, \"Male\", \"ajay@gmail.com\", \"AFT123\")\n",
        "p2 = Passenger(\"Dough\", 28, \"Female\", \"dough@gmail.com\", \"DEF324\")\n",
        "p3 = Passenger(\"Fire\", 45, \"Female\", \"fire@gmail.com\", \"ABC543\")\n",
        "p4 = Passenger(\"Ray\", 35, \"Male\", \"ray@gmail.com\", \"GFR092\")"
      ],
      "metadata": {
        "id": "XN0AAPfm58kz"
      },
      "execution_count": 6,
      "outputs": []
    },
    {
      "cell_type": "code",
      "source": [
        "# creatimg employees for the airport\n",
        "emp1 = Employee(\"Alice\", 51, \"Male\", \"alice@gmail.com\", \"E001\")\n",
        "emp2 = Employee(\"Zara\", 42, \"Female\", \"zara@gmail.com\", \"E002\")\n",
        "emp3 = Employee(\"Bob\", 50, \"Male\", \"bob@gmail.com\", \"E003\")\n",
        "emp4 = Employee(\"Tina\", 54, \"Female\", \"tina@gmail.com\", \"E004\")"
      ],
      "metadata": {
        "id": "Al60xeyx6Rc4"
      },
      "execution_count": 7,
      "outputs": []
    },
    {
      "cell_type": "code",
      "source": [
        "# creating flights for the airport\n",
        "flight1 = Flight(\"F001\", \"United Airlines\", \"Amsterdam\", \"New York\", \"2023-05-20 08:00:00\", \"2023-05-20 15:00:00\")\n",
        "flight2 = Flight(\"F002\", \"Delta\", \"New York\", \"London\", \"2023-05-17 09:00:00\", \"2023-05-17 15:00:00\")\n",
        "flight3 = Flight(\"F003\", \"SouthWest\", \"London\", \"Paris\", \"2023-05-15 10:00:00\", \"2023-05-15 12:00:00\")\n",
        "flight4 = Flight(\"F004\", \"Delta\", \"Paris\", \"New York\", \"2023-05-12 12:00:00\", \"2023-05-12 18:00:00\")"
      ],
      "metadata": {
        "id": "7F5KM8WG6Ucy"
      },
      "execution_count": 8,
      "outputs": []
    },
    {
      "cell_type": "code",
      "source": [
        "# creating a new york airport and adding flights to it\n",
        "airport = Airport(\"JFK Airport\", \"New York\")\n",
        "airport.add_flight(flight1)\n",
        "airport.add_flight(flight2)\n",
        "airport.add_flight(flight3)\n",
        "airport.add_flight(flight4)"
      ],
      "metadata": {
        "id": "DtoB3jWQ6XU1"
      },
      "execution_count": 9,
      "outputs": []
    },
    {
      "cell_type": "code",
      "source": [
        "# adding passengers to flights\n",
        "flight1.add_passenger(p1)\n",
        "flight1.add_passenger(p2)\n",
        "flight2.add_passenger(p3)\n",
        "flight3.add_passenger(p4)"
      ],
      "metadata": {
        "id": "mWXZ9y1w6nap"
      },
      "execution_count": 10,
      "outputs": []
    },
    {
      "cell_type": "code",
      "source": [
        "# testing get_flight method: it will list all the flights\n",
        "airport.get_flights() \n",
        "for flight in airport.get_flights():\n",
        "  print(f\"Flight No: {flight.flight_no}, Airlines: {flight.airline}, Destination: {flight.destination}\")"
      ],
      "metadata": {
        "colab": {
          "base_uri": "https://localhost:8080/"
        },
        "id": "F286c5MYJcQp",
        "outputId": "a959fcba-03d4-4b6a-bf00-6b019b38d756"
      },
      "execution_count": 11,
      "outputs": [
        {
          "output_type": "stream",
          "name": "stdout",
          "text": [
            "Flight No: F001, Airlines: United Airlines, Destination: New York\n",
            "Flight No: F002, Airlines: Delta, Destination: London\n",
            "Flight No: F003, Airlines: SouthWest, Destination: Paris\n",
            "Flight No: F004, Airlines: Delta, Destination: New York\n"
          ]
        }
      ]
    },
    {
      "cell_type": "code",
      "source": [
        "# testing add_flight method : it will add a new flight to the list of flights\n",
        "flight5 = Flight(\"F005\", \"SouthWest\", \"Baltimore\", \"New York\", \"2023-05-11 12:00:00\", \"2023-05-11 18:00:00\")\n",
        "airport.add_flight(flight5)\n",
        "\n",
        "for flight in airport.get_flights():\n",
        "  print(f\"Flight No: {flight.flight_no}, Airlines: {flight.airline}, Destination: {flight.destination}\")\n"
      ],
      "metadata": {
        "colab": {
          "base_uri": "https://localhost:8080/"
        },
        "id": "eP8j19lzZWyZ",
        "outputId": "bcdd3e9c-a008-4c6e-f113-b089a44d20f1"
      },
      "execution_count": 12,
      "outputs": [
        {
          "output_type": "stream",
          "name": "stdout",
          "text": [
            "Flight No: F001, Airlines: United Airlines, Destination: New York\n",
            "Flight No: F002, Airlines: Delta, Destination: London\n",
            "Flight No: F003, Airlines: SouthWest, Destination: Paris\n",
            "Flight No: F004, Airlines: Delta, Destination: New York\n",
            "Flight No: F005, Airlines: SouthWest, Destination: New York\n"
          ]
        }
      ]
    },
    {
      "cell_type": "code",
      "source": [
        "# testing search_flight_by_num method for existing flight\n",
        "f1 = airport.search_flight_by_num(\"F001\")\n",
        "print(f1)"
      ],
      "metadata": {
        "colab": {
          "base_uri": "https://localhost:8080/"
        },
        "id": "qxPXIwiQ6r9H",
        "outputId": "c57d226d-99e7-41a5-c4ac-04f68ebb3da3"
      },
      "execution_count": 13,
      "outputs": [
        {
          "output_type": "stream",
          "name": "stdout",
          "text": [
            "Flight No: F001\n",
            "Airline: United Airlines\n",
            "Source: Amsterdam\n",
            "Destination: New York\n",
            "Departure Time: 2023-05-20 08:00:00\n",
            "Arrival Time: 2023-05-20 15:00:00\n"
          ]
        }
      ]
    },
    {
      "cell_type": "code",
      "source": [
        "# testing search_flight_by_num method for non-existing flight\n",
        "f1 = airport.search_flight_by_num(\"F008\")\n",
        "print(f1)\n"
      ],
      "metadata": {
        "colab": {
          "base_uri": "https://localhost:8080/"
        },
        "id": "3UL6KvMz6vMB",
        "outputId": "256c5ffc-2aec-4b5d-94fa-b5d2084df901"
      },
      "execution_count": 14,
      "outputs": [
        {
          "output_type": "stream",
          "name": "stdout",
          "text": [
            "Flight not found!\n"
          ]
        }
      ]
    },
    {
      "cell_type": "code",
      "source": [
        "# testing sort_flights_by_num method to sort the list of flights\n",
        "flight_details = airport.sort_flights()\n",
        "\n",
        "# print the list of flight details\n",
        "for flight in flight_details:\n",
        "    print(\"Flight No:\", flight[0])\n",
        "    print(\"Airline:\", flight[1])\n",
        "    print(\"Source:\", flight[2])\n",
        "    print(\"Destination:\", flight[3])\n",
        "    print(\"Departure Time:\", flight[4])\n",
        "    print(\"Arrival Time:\", flight[5])\n",
        "    print()"
      ],
      "metadata": {
        "colab": {
          "base_uri": "https://localhost:8080/"
        },
        "id": "lECPlSl-kXzF",
        "outputId": "6e301116-0d0b-48ad-8194-1398c699b6dc"
      },
      "execution_count": 15,
      "outputs": [
        {
          "output_type": "stream",
          "name": "stdout",
          "text": [
            "Flight No: F005\n",
            "Airline: SouthWest\n",
            "Source: Baltimore\n",
            "Destination: New York\n",
            "Departure Time: 2023-05-11 12:00:00\n",
            "Arrival Time: 2023-05-11 18:00:00\n",
            "\n",
            "Flight No: F004\n",
            "Airline: Delta\n",
            "Source: Paris\n",
            "Destination: New York\n",
            "Departure Time: 2023-05-12 12:00:00\n",
            "Arrival Time: 2023-05-12 18:00:00\n",
            "\n",
            "Flight No: F003\n",
            "Airline: SouthWest\n",
            "Source: London\n",
            "Destination: Paris\n",
            "Departure Time: 2023-05-15 10:00:00\n",
            "Arrival Time: 2023-05-15 12:00:00\n",
            "\n",
            "Flight No: F002\n",
            "Airline: Delta\n",
            "Source: New York\n",
            "Destination: London\n",
            "Departure Time: 2023-05-17 09:00:00\n",
            "Arrival Time: 2023-05-17 15:00:00\n",
            "\n",
            "Flight No: F001\n",
            "Airline: United Airlines\n",
            "Source: Amsterdam\n",
            "Destination: New York\n",
            "Departure Time: 2023-05-20 08:00:00\n",
            "Arrival Time: 2023-05-20 15:00:00\n",
            "\n"
          ]
        }
      ]
    },
    {
      "cell_type": "markdown",
      "source": [
        "####Testing polymorphism <br>\n",
        "Calling the add_passenger method on objects of different classes"
      ],
      "metadata": {
        "id": "fgVtV_YAtK70"
      }
    },
    {
      "cell_type": "code",
      "source": [
        "flight1.add_passenger(p1)\n",
        "print('Passenger', p1.name, 'has been added to Flight 1', flight1.flight_no)\n",
        "\n",
        "\n",
        "airport.add_passenger(flight1, p1)\n",
        "print('Passenger', p1.name, 'has been added to Airport', airport.name)"
      ],
      "metadata": {
        "colab": {
          "base_uri": "https://localhost:8080/"
        },
        "id": "fVAZuQOdtKSM",
        "outputId": "43857232-64fd-4d38-a98b-8e1b29b0271a"
      },
      "execution_count": 16,
      "outputs": [
        {
          "output_type": "stream",
          "name": "stdout",
          "text": [
            "Passenger Ajay has been added to Flight 1 F001\n",
            "Passenger Ajay has been added to Airport JFK Airport\n"
          ]
        }
      ]
    }
  ]
}