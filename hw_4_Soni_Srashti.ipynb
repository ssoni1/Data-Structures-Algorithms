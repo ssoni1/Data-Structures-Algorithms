{
  "nbformat": 4,
  "nbformat_minor": 0,
  "metadata": {
    "colab": {
      "provenance": []
    },
    "kernelspec": {
      "name": "python3",
      "display_name": "Python 3"
    },
    "language_info": {
      "name": "python"
    }
  },
  "cells": [
    {
      "cell_type": "markdown",
      "source": [
        "###Exercises:\n",
        "####1.  The harmonic sum of an integer, n > 0, can be calculated using the formula. Write a recursive function that computes this.\n",
        "####2. When the implementation of fib in Figure 6-3 is used to compute fib(5), how many times does it compute the value of fib(2) on the way to computing fib(5)?\n",
        "####3. Write a function that meets the specification\n",
        "####4. Write a function that takes a year (>1957) as a parameter, and returns the number of days between Canadian Thanksgiving and Christmas.\n",
        "####By convention, Python programmers usually\n",
        "#####a. Import one module per line.\n",
        "#####b. Place all imports at the start of a program.\n",
        "#####c. Import standard modules first, followed by third-party modules (e.g., the modules provided through Anaconda), and finally application-specific modules.\n",
        "####5. Implement a function that meets the specification below. Use a try-except block. Hint: before starting to code, you might want to type something like 1 + 'a' into the shell to see what kind of exception is raised.\n",
        "####6. Implement a function that satisfies the specification\n",
        "\n"
      ],
      "metadata": {
        "id": "xQaFlsOncHYE"
      }
    },
    {
      "cell_type": "code",
      "execution_count": 1,
      "metadata": {
        "id": "HMB0HiPrcB_l"
      },
      "outputs": [],
      "source": [
        "#1. The harmonic sum of an integer, n > 0, can be calculated using the formula. Write a recursive function that computes this.\n",
        "def harmonic_sum(n):\n",
        "    if n == 1:\n",
        "        return 1\n",
        "    else:\n",
        "        return 1/n + harmonic_sum(n-1) # recursively calling the function with n-1 and add 1/n to the result of the recursive call."
      ]
    },
    {
      "cell_type": "code",
      "source": [
        "harmonic_sum(5)"
      ],
      "metadata": {
        "colab": {
          "base_uri": "https://localhost:8080/"
        },
        "id": "B2inksVMuhVG",
        "outputId": "118d997d-59da-48c2-f703-eacb22a8ef76"
      },
      "execution_count": 2,
      "outputs": [
        {
          "output_type": "execute_result",
          "data": {
            "text/plain": [
              "2.283333333333333"
            ]
          },
          "metadata": {},
          "execution_count": 2
        }
      ]
    },
    {
      "cell_type": "code",
      "source": [
        "#2. When the implementation of fib in Figure 6-3 is used to compute fib(5), how many times does it compute the value of fib(2) on the way to computing fib(5)?\n",
        "def fib(n):\n",
        "  if n == 0 or n == 1:\n",
        "    return 1\n",
        "  else:\n",
        "    return fib(n-1) + fib(n-2)\n",
        "\n",
        "\n",
        "\n",
        "def test_fib(n):\n",
        "  for i in range(n+1):\n",
        "    print('fib of', i, '=', fib(i))"
      ],
      "metadata": {
        "id": "WS5ib6P2ukDo"
      },
      "execution_count": 3,
      "outputs": []
    },
    {
      "cell_type": "code",
      "source": [
        "fib(5)"
      ],
      "metadata": {
        "colab": {
          "base_uri": "https://localhost:8080/"
        },
        "id": "Z0Zyjd61v0jq",
        "outputId": "f04843e4-f6a3-434c-ea74-3a1abcbb4295"
      },
      "execution_count": 4,
      "outputs": [
        {
          "output_type": "execute_result",
          "data": {
            "text/plain": [
              "8"
            ]
          },
          "metadata": {},
          "execution_count": 4
        }
      ]
    },
    {
      "cell_type": "markdown",
      "source": [
        "####The value of fib(2) on the way to computing fib(5) is computer 3 times.\n",
        "\n",
        "\n",
        "*   fib(5) calls fib(4) and fib(3)\n",
        "*   fib(4) calls fib(3) and fib(2)\n",
        "*   fib(3) calls fib(2) and fib(1)\n",
        "*   fib(2) is computed for the first time\n",
        "*   fib(3) calls fib(2) -- this is the second time when fib(2) is computed\n",
        "*   fib(4) calls fib(2) -- this is the the third time <br>\n",
        "Therefore, the value of fib(2) is computed three times when computing fib(5)."
      ],
      "metadata": {
        "id": "q-dOymXyxigI"
      }
    },
    {
      "cell_type": "code",
      "source": [
        "# Write a function that meets the specification\n",
        "import datetime\n",
        "\n",
        "def shopping_days(year):\n",
        "    \"\"\"year a number >= 1941\n",
        "    returns the number of days between U.S. Thanksgiving and Christmas in year\"\"\"\n",
        "    if year < 1941:\n",
        "      raise ValueError(\"Year must be greater or equal to 1941\")\n",
        "    # Thanksgiving is the fourth Thursday in November\n",
        "    thanksgiving = datetime.date(year, 11, 1)\n",
        "    while thanksgiving.weekday() != 3:\n",
        "        thanksgiving += datetime.timedelta(days=1)\n",
        "    thanksgiving += datetime.timedelta(days=21)\n",
        "    \n",
        "    # Christmas is always December 25th\n",
        "    christmas = datetime.date(year, 12, 25)\n",
        "    \n",
        "    # Calculate the number of days between Thanksgiving and Christmas\n",
        "    days_between = (christmas - thanksgiving).days\n",
        "    \n",
        "    return days_between"
      ],
      "metadata": {
        "id": "SQogm6Ev4xkH"
      },
      "execution_count": 22,
      "outputs": []
    },
    {
      "cell_type": "code",
      "source": [
        "shopping_days(2022)"
      ],
      "metadata": {
        "colab": {
          "base_uri": "https://localhost:8080/"
        },
        "id": "kKkYxUK35VSG",
        "outputId": "7df7106e-000f-4017-fb32-b584555967bd"
      },
      "execution_count": 24,
      "outputs": [
        {
          "output_type": "execute_result",
          "data": {
            "text/plain": [
              "31"
            ]
          },
          "metadata": {},
          "execution_count": 24
        }
      ]
    },
    {
      "cell_type": "code",
      "source": [
        "#4. Write a function that takes a year (>1957) as a parameter, and returns the number of days between Canadian Thanksgiving and Christmas.\n",
        "import datetime\n",
        "\n",
        "def shopping_days_canada(year):\n",
        "    \"\"\"year a number > 1957\n",
        "    returns the number of days between Canada Thanksgiving and Christmas in year\"\"\"\n",
        "    \n",
        "    if year < 1957:\n",
        "      raise ValueError(\"Year must be greater than 1957\")\n",
        "\n",
        "    # Canada Thanksgiving is the second Monday in October\n",
        "    thanksgiving = datetime.date(year, 10, 1)\n",
        "    while thanksgiving.weekday() != 0:\n",
        "        thanksgiving += datetime.timedelta(days=1)\n",
        "    thanksgiving += datetime.timedelta(days=7)\n",
        "    \n",
        "    # Christmas is always December 25th\n",
        "    christmas = datetime.date(year, 12, 25)\n",
        "    \n",
        "    # Calculate the number of days between Thanksgiving and Christmas\n",
        "    days_between = (christmas - thanksgiving).days\n",
        "    \n",
        "    return days_between"
      ],
      "metadata": {
        "id": "8L5XoW3V5e00"
      },
      "execution_count": 25,
      "outputs": []
    },
    {
      "cell_type": "code",
      "source": [
        "shopping_days_canada(2022)"
      ],
      "metadata": {
        "colab": {
          "base_uri": "https://localhost:8080/"
        },
        "id": "i1zaB1LV7GgW",
        "outputId": "22281fe6-054b-4eca-f717-0847c45428fc"
      },
      "execution_count": 26,
      "outputs": [
        {
          "output_type": "execute_result",
          "data": {
            "text/plain": [
              "76"
            ]
          },
          "metadata": {},
          "execution_count": 26
        }
      ]
    },
    {
      "cell_type": "code",
      "source": [
        "#5. Implement a function that meets the specification below. Use a try-except block. Hint: before starting to code, you might want to type something like 1 + 'a' into the shell to see what kind of exception is raised.\n",
        "def sum_digits(s):\n",
        "    \"\"\"Assumes s is a string\n",
        "    Returns the sum of the decimal digits in s\n",
        "    For example, if s is 'a2b3c' it returns 5\"\"\"\n",
        "\n",
        "    digits_sum = 0\n",
        "    for char in s:\n",
        "        try:\n",
        "            digits_sum += int(char)\n",
        "        except ValueError:\n",
        "            pass  # ignoring the non-digit characters\n",
        "    return digits_sum"
      ],
      "metadata": {
        "id": "-uyGILAU7KaS"
      },
      "execution_count": 27,
      "outputs": []
    },
    {
      "cell_type": "code",
      "source": [
        "sum_digits(\"a2b3c\")"
      ],
      "metadata": {
        "colab": {
          "base_uri": "https://localhost:8080/"
        },
        "id": "lGrZ3dlS9o9N",
        "outputId": "a7b3ce65-7afa-4b48-b14e-7098219b4eb9"
      },
      "execution_count": 31,
      "outputs": [
        {
          "output_type": "execute_result",
          "data": {
            "text/plain": [
              "5"
            ]
          },
          "metadata": {},
          "execution_count": 31
        }
      ]
    },
    {
      "cell_type": "code",
      "source": [
        "#6. Implement a function that satisfies the specification\n",
        "def find_an_even(L):\n",
        "    \"\"\"Assumes L is a list of integers\n",
        "    Returns the first even number in L\n",
        "    Raises ValueError if L does not contain an even number\"\"\"\n",
        "    for num in L:\n",
        "        if num % 2 == 0:\n",
        "            return num\n",
        "    raise ValueError('L does not contain an even number')"
      ],
      "metadata": {
        "id": "nvRK5stk90Mi"
      },
      "execution_count": 32,
      "outputs": []
    },
    {
      "cell_type": "code",
      "source": [
        "find_an_even([1,3,4,5,8,9])"
      ],
      "metadata": {
        "colab": {
          "base_uri": "https://localhost:8080/"
        },
        "id": "GwIjNw0Q-v5M",
        "outputId": "6574b02b-923f-4864-da67-08302943526c"
      },
      "execution_count": 35,
      "outputs": [
        {
          "output_type": "execute_result",
          "data": {
            "text/plain": [
              "4"
            ]
          },
          "metadata": {},
          "execution_count": 35
        }
      ]
    },
    {
      "cell_type": "code",
      "source": [
        "find_an_even([1,3,7,5,9])"
      ],
      "metadata": {
        "colab": {
          "base_uri": "https://localhost:8080/",
          "height": 258
        },
        "id": "CD84n-JE-3ok",
        "outputId": "0cb63ee1-d440-4919-8f85-43601f9ff265"
      },
      "execution_count": 36,
      "outputs": [
        {
          "output_type": "error",
          "ename": "ValueError",
          "evalue": "ignored",
          "traceback": [
            "\u001b[0;31m---------------------------------------------------------------------------\u001b[0m",
            "\u001b[0;31mValueError\u001b[0m                                Traceback (most recent call last)",
            "\u001b[0;32m<ipython-input-36-5958affdf9a5>\u001b[0m in \u001b[0;36m<module>\u001b[0;34m\u001b[0m\n\u001b[0;32m----> 1\u001b[0;31m \u001b[0mfind_an_even\u001b[0m\u001b[0;34m(\u001b[0m\u001b[0;34m[\u001b[0m\u001b[0;36m1\u001b[0m\u001b[0;34m,\u001b[0m\u001b[0;36m3\u001b[0m\u001b[0;34m,\u001b[0m\u001b[0;36m7\u001b[0m\u001b[0;34m,\u001b[0m\u001b[0;36m5\u001b[0m\u001b[0;34m,\u001b[0m\u001b[0;36m9\u001b[0m\u001b[0;34m]\u001b[0m\u001b[0;34m)\u001b[0m\u001b[0;34m\u001b[0m\u001b[0;34m\u001b[0m\u001b[0m\n\u001b[0m",
            "\u001b[0;32m<ipython-input-32-b7d538bf0280>\u001b[0m in \u001b[0;36mfind_an_even\u001b[0;34m(L)\u001b[0m\n\u001b[1;32m      7\u001b[0m         \u001b[0;32mif\u001b[0m \u001b[0mnum\u001b[0m \u001b[0;34m%\u001b[0m \u001b[0;36m2\u001b[0m \u001b[0;34m==\u001b[0m \u001b[0;36m0\u001b[0m\u001b[0;34m:\u001b[0m\u001b[0;34m\u001b[0m\u001b[0;34m\u001b[0m\u001b[0m\n\u001b[1;32m      8\u001b[0m             \u001b[0;32mreturn\u001b[0m \u001b[0mnum\u001b[0m\u001b[0;34m\u001b[0m\u001b[0;34m\u001b[0m\u001b[0m\n\u001b[0;32m----> 9\u001b[0;31m     \u001b[0;32mraise\u001b[0m \u001b[0mValueError\u001b[0m\u001b[0;34m(\u001b[0m\u001b[0;34m'L does not contain an even number'\u001b[0m\u001b[0;34m)\u001b[0m\u001b[0;34m\u001b[0m\u001b[0;34m\u001b[0m\u001b[0m\n\u001b[0m",
            "\u001b[0;31mValueError\u001b[0m: L does not contain an even number"
          ]
        }
      ]
    }
  ]
}