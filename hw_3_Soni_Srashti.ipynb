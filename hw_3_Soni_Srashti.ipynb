{
  "nbformat": 4,
  "nbformat_minor": 0,
  "metadata": {
    "colab": {
      "provenance": []
    },
    "kernelspec": {
      "name": "python3",
      "display_name": "Python 3"
    },
    "language_info": {
      "name": "python"
    }
  },
  "cells": [
    {
      "cell_type": "markdown",
      "source": [
        "###Exercises:\n",
        "#####1.  Write an expression that evaluates to the mean of a tuple of numbers. Use the function sum\n",
        "#####2. What does the following code print?\n",
        "  L = [1, 2, 3]\n",
        "  L.append(L)\n",
        "  print(L is L[-1])\n",
        "#####3. Write a list comprehension that generates all non-primes between 2 and 100.\n",
        "#####4. Implement a function satisfying the following specification. Hint: it will be convenient to use lambda in the body of the implementation.\n",
        "\n"
      ],
      "metadata": {
        "id": "jKp5Q3mfw_Ek"
      }
    },
    {
      "cell_type": "code",
      "source": [
        "#Write an expression that evaluates to the mean of a tuple of numbers. Use the function sum\n",
        "\n",
        "tup_1 = (2,4,5,6,7,8,9)\n",
        "mean = sum(tup_1)/len(tup_1)\n",
        "print(round(mean, 2))"
      ],
      "metadata": {
        "id": "9QcgGUn_za-m",
        "colab": {
          "base_uri": "https://localhost:8080/"
        },
        "outputId": "67049959-54c3-46ab-d6cc-fdd807076ed4"
      },
      "execution_count": 1,
      "outputs": [
        {
          "output_type": "stream",
          "name": "stdout",
          "text": [
            "5.86\n"
          ]
        }
      ]
    },
    {
      "cell_type": "code",
      "source": [
        "#What does the following code print?\n",
        "\n",
        "L = [1, 2, 3]\n",
        "L.append(L)\n",
        "print(L is L[-1])"
      ],
      "metadata": {
        "colab": {
          "base_uri": "https://localhost:8080/"
        },
        "id": "XjhBFU0o3arf",
        "outputId": "12d146d5-c4f9-443b-9bac-94601868a893"
      },
      "execution_count": 2,
      "outputs": [
        {
          "output_type": "stream",
          "name": "stdout",
          "text": [
            "True\n"
          ]
        }
      ]
    },
    {
      "cell_type": "code",
      "source": [
        "#Write a list comprehension that generates all non-primes between 2 and 100.\n",
        "\n",
        "non_prime_nums = [x for x in range(2, 101) if any(x % i == 0 for i in range(2, x))]\n",
        "print(non_prime_nums)"
      ],
      "metadata": {
        "colab": {
          "base_uri": "https://localhost:8080/"
        },
        "id": "nqdhY4qH5N0T",
        "outputId": "d54a4594-c45d-4734-bef0-b511ebd80619"
      },
      "execution_count": 3,
      "outputs": [
        {
          "output_type": "stream",
          "name": "stdout",
          "text": [
            "[4, 6, 8, 9, 10, 12, 14, 15, 16, 18, 20, 21, 22, 24, 25, 26, 27, 28, 30, 32, 33, 34, 35, 36, 38, 39, 40, 42, 44, 45, 46, 48, 49, 50, 51, 52, 54, 55, 56, 57, 58, 60, 62, 63, 64, 65, 66, 68, 69, 70, 72, 74, 75, 76, 77, 78, 80, 81, 82, 84, 85, 86, 87, 88, 90, 91, 92, 93, 94, 95, 96, 98, 99, 100]\n"
          ]
        }
      ]
    },
    {
      "cell_type": "code",
      "source": [
        "# Implement a function satisfying the following specification. Hint: it will be convenient to use lambda in the body of the implementation.\n",
        "\n",
        "def f(L1, L2):\n",
        "    # using map function in lambda expression to map the elements appropriately from both the lists L1 and L2\n",
        "    return sum(map(lambda x, y: x**y, L1, L2))\n",
        "\n",
        "L1 = [1, 2]\n",
        "L2 = [3, 4]\n",
        "#function 'f' is applied to the output in which f takes in L1 and L2 as inputs and returns the sum of L1[i] raised to the power of L2[i] \n",
        "output = f(L1, L2)\n",
        "\n",
        "# for each index i in L1 and L2, which is 1^3 + 2^4 = 1 + 16 = 17.\n",
        "print(output)"
      ],
      "metadata": {
        "colab": {
          "base_uri": "https://localhost:8080/"
        },
        "id": "9Jnjqqej6xtC",
        "outputId": "305cc5aa-9ead-4c68-8fde-cbfaa7bd8687"
      },
      "execution_count": 4,
      "outputs": [
        {
          "output_type": "stream",
          "name": "stdout",
          "text": [
            "17\n"
          ]
        }
      ]
    }
  ]
}