{
  "nbformat": 4,
  "nbformat_minor": 0,
  "metadata": {
    "colab": {
      "provenance": []
    },
    "kernelspec": {
      "name": "python3",
      "display_name": "Python 3"
    },
    "language_info": {
      "name": "python"
    }
  },
  "cells": [
    {
      "cell_type": "markdown",
      "source": [
        "**###Exercises:**\n",
        "####10.1. Add a method satisfying the specification below to the Int_set class.\n",
        "####10.1.1. Replace the union method you added to Int_set by a method that allows clients of Int_set to use the + operator to denote set union.\n",
        "####10.2. Implement a subclass of Person that meets the specification\n",
        "####10.3.1. Add to Grades a generator that meets the specification\n"
      ],
      "metadata": {
        "id": "mP8g1U1Bglh3"
      }
    },
    {
      "cell_type": "code",
      "execution_count": 3,
      "metadata": {
        "id": "5dgb854_gdgU"
      },
      "outputs": [],
      "source": [
        "#10.1 Add a method satisfying the specification below to the Int_set class.\n",
        "class Int_set:\n",
        "    def __init__(self):\n",
        "        self.items = []\n",
        "\n",
        "    def add(self, item):\n",
        "        if item not in self.items:\n",
        "            self.items.append(item)\n",
        "\n",
        "    def remove(self, item):\n",
        "        if item in self.items:\n",
        "            self.items.remove(item)\n",
        "\n",
        "    def contains(self, item):\n",
        "        return item in self.items\n",
        "\n",
        "    def size(self):\n",
        "        return len(self.items)\n",
        "\n",
        "    def __str__(self):\n",
        "        if self.items==[]:\n",
        "          return'()'\n",
        "        self.items.sort()\n",
        "        result = ''\n",
        "        for e in self.items:\n",
        "          result = result + str(e) + ','\n",
        "        return f'{{{result[:-1]}}}'\n",
        "\n",
        "    def union(self, other):\n",
        "\n",
        "        \"\"\"other is an Int_set\n",
        "           mutates self so that it contains exactly the\n",
        "           elements in self plus the elements in other.\"\"\"\n",
        "        for item in other.items:\n",
        "            self.add(item)"
      ]
    },
    {
      "cell_type": "code",
      "source": [
        "set1 = Int_set()\n",
        "set1.add(1)\n",
        "set1.add(2)\n",
        "set1.add(3)\n",
        "set1.add(4)\n",
        "\n",
        "set2 = Int_set()\n",
        "set2.add(3)\n",
        "set2.add(4)\n",
        "set2.add(5)\n",
        "set2.add(6)\n",
        "set2.add(7)\n",
        "\n",
        "set1.union(set2)\n",
        "print(set1)"
      ],
      "metadata": {
        "colab": {
          "base_uri": "https://localhost:8080/"
        },
        "id": "XGexqaN15oPk",
        "outputId": "605a1dbd-29d0-4b80-dbf4-a0e78d616c34"
      },
      "execution_count": 4,
      "outputs": [
        {
          "output_type": "stream",
          "name": "stdout",
          "text": [
            "{1,2,3,4,5,6,7}\n"
          ]
        }
      ]
    },
    {
      "cell_type": "code",
      "source": [
        "#10.1.1 Replace the union method you added to Int_set by a method that allows clients of Int_set to use the + operator to denote set union.\n",
        "class Int_set:\n",
        "    def __init__(self):\n",
        "        self.items = []\n",
        "\n",
        "    def add(self, item):\n",
        "        if item not in self.items:\n",
        "            self.items.append(item)\n",
        "\n",
        "    def remove(self, item):\n",
        "        if item in self.items:\n",
        "            self.items.remove(item)\n",
        "\n",
        "    def contains(self, item):\n",
        "        return item in self.items\n",
        "\n",
        "    def size(self):\n",
        "        return len(self.items)\n",
        "\n",
        "    def __str__(self):\n",
        "        if self.vals==[]:\n",
        "          return'()'\n",
        "        self.items.sort()\n",
        "        result = ''\n",
        "        for e in self.items:\n",
        "          result = result + str(e) + ','\n",
        "        return f'{{{result[:-1]}}}'\n",
        "   \n",
        "    def __add__(self, other_set):\n",
        "        result_set = Int_set()\n",
        "        for item in self.items:\n",
        "            result_set.add(item)\n",
        "        for item in other_set.items:\n",
        "            result_set.add(item)\n",
        "        return result_set"
      ],
      "metadata": {
        "id": "pC42mL-H6F7_"
      },
      "execution_count": 5,
      "outputs": []
    },
    {
      "cell_type": "code",
      "source": [
        "set1 = Int_set()\n",
        "set1.add(1)\n",
        "set1.add(2)\n",
        "set1.add(3)\n",
        "set1.add(4)\n",
        "\n",
        "set2 = Int_set()\n",
        "set2.add(3)\n",
        "set2.add(4)\n",
        "set2.add(5)\n",
        "set2.add(6)\n",
        "set2.add(7)\n",
        "\n",
        "set3 = set1 + set2\n",
        "print(set3.items)"
      ],
      "metadata": {
        "colab": {
          "base_uri": "https://localhost:8080/"
        },
        "id": "22LsI_Cj9e8e",
        "outputId": "83e7f28c-4812-4962-94ce-98cd163f434d"
      },
      "execution_count": 6,
      "outputs": [
        {
          "output_type": "stream",
          "name": "stdout",
          "text": [
            "[1, 2, 3, 4, 5, 6, 7]\n"
          ]
        }
      ]
    },
    {
      "cell_type": "code",
      "source": [
        "# 10.2 Implement a subclass of Person that meets the specification\n",
        "import datetime\n",
        "\n",
        "class Person(object):\n",
        "    def __init__(self, name):\n",
        "        self.name = name\n",
        "        try:\n",
        "            last_blank = name.rindex(' ')\n",
        "            self.last_name = name[last_blank+1:]\n",
        "        except:\n",
        "            self.last_name = name\n",
        "        self.birthday = None\n",
        "        \n",
        "    def get_name(self):\n",
        "        return self.name\n",
        "    \n",
        "    def get_last_name(self):\n",
        "        return self.last_name\n",
        "    \n",
        "    def set_birthday(self, birthdate):\n",
        "        self.birthday = birthdate\n",
        "        \n",
        "    def get_age(self):\n",
        "        if self.birthday == None:\n",
        "            raise ValueError\n",
        "        return(datetime.date.today() - self.birthday).days\n",
        "    \n",
        "    def __lt__(self, other):\n",
        "        if self.last_name == other.last_name:\n",
        "            return self.name < other.name\n",
        "        return self.last_name < other.last_name\n",
        "    \n",
        "    def __str__(self):\n",
        "        return self.name\n"
      ],
      "metadata": {
        "id": "vCfmYiUt920i"
      },
      "execution_count": 7,
      "outputs": []
    },
    {
      "cell_type": "code",
      "source": [
        "class Politician(Person):\n",
        "    \"\"\"A politician is a person who can belong to a political party\"\"\"\n",
        "    \n",
        "    def __init__(self, name, party=None):\n",
        "        \"\"\"name and party are strings\"\"\"\n",
        "        super().__init__(name)\n",
        "        self.party = party\n",
        "        \n",
        "    def get_party(self):\n",
        "        \"\"\"returns the party to which self belongs\"\"\"\n",
        "        return self.party\n",
        "    \n",
        "    def might_agree(self, other):\n",
        "        \"\"\"returns True if self and other belong to the same or at least one of them does not belong to a party\"\"\"\n",
        "        if isinstance(other, Politician):\n",
        "            if self.party is not None and other.party is not None:\n",
        "                return self.party == other.party\n",
        "            else:\n",
        "                return True\n",
        "        else:\n",
        "            return False"
      ],
      "metadata": {
        "id": "6DomoBnn_dFg"
      },
      "execution_count": 8,
      "outputs": []
    },
    {
      "cell_type": "code",
      "source": [
        "Person1= Politician(\"Alice\", \"The Democrats\")\n",
        "Person2 = Politician(\"Joy\", \"The Democrats\" )\n",
        "Person3 = Politician(\"George\", \"The Republicans\" )\n",
        "\n",
        "print(Person1.get_name())\n",
        "print(Person1.get_party())\n",
        "\n",
        "print(Person1.might_agree(Person2))\n",
        "print(Person2.might_agree(Person3))"
      ],
      "metadata": {
        "colab": {
          "base_uri": "https://localhost:8080/"
        },
        "id": "WVOxC6lL_iDX",
        "outputId": "ecd1f664-f0b3-4380-992d-49cbc4fcd3ae"
      },
      "execution_count": 11,
      "outputs": [
        {
          "output_type": "stream",
          "name": "stdout",
          "text": [
            "Alice\n",
            "The Democrats\n",
            "True\n",
            "False\n"
          ]
        }
      ]
    },
    {
      "cell_type": "code",
      "source": [
        "#10.3.1 Add to Grades a generator that meets the specification\n",
        "class MIT_Person(Person):\n",
        "    next_id_num = 0 # identification number\n",
        "    \n",
        "    def __init__(self, name):\n",
        "        Person.__init__(self, name)\n",
        "        self.id_num = MIT_Person.next_id_num\n",
        "        MIT_Person.next_id_num += 1\n",
        "        \n",
        "    def get_id_num(self):\n",
        "        return self.id_num\n",
        "    \n",
        "    def __lt__(self, other):\n",
        "        return self.id_num < other.id_num\n",
        "    def is_student(self):\n",
        "        return isinstance(self, Student)"
      ],
      "metadata": {
        "id": "u67it40jERCi"
      },
      "execution_count": 19,
      "outputs": []
    },
    {
      "cell_type": "code",
      "source": [
        "class Student(MIT_Person):\n",
        "    pass\n",
        "\n",
        "class UG(Student):\n",
        "    def __init__(self, name, class_year):\n",
        "        MIT_Person.__init__(self, name)\n",
        "        self.year = class_year\n",
        "    \n",
        "    def get_class(self):\n",
        "        return self.year\n",
        "\n",
        "class Grad(Student):\n",
        "    pass"
      ],
      "metadata": {
        "id": "JXbNGl69EQ0k"
      },
      "execution_count": 20,
      "outputs": []
    },
    {
      "cell_type": "code",
      "source": [
        "class Grades(object):\n",
        "    def __init__(self):\n",
        "        \"\"\"Create empty grade book\"\"\"\n",
        "        self.students = []\n",
        "        self.grades = {}\n",
        "        self.is_sorted = True\n",
        "        \n",
        "    def add_student(self, student):\n",
        "        \"\"\"Assumes: student is of type Student\n",
        "           Add student to the grade book\"\"\"\n",
        "        if student in self.students:\n",
        "            raise ValueError('Duplicate student')\n",
        "        self.students.append(student)\n",
        "        self.grades[student.get_id_num()] = []\n",
        "        self.is_sorted = False\n",
        "    \n",
        "    def add_grade(self, student, grade):\n",
        "        \"\"\"Assumes: grade is a float\n",
        "           Add grade to the list of grades for student\"\"\"\n",
        "        try:\n",
        "            self.grades[student.get_id_num()].append(grade)\n",
        "        except:\n",
        "            raise ValueError('Student not in mapping')\n",
        "            \n",
        "    def get_grades(self, student):\n",
        "        \"\"\"Return a list of grades for student\"\"\"\n",
        "        try: \n",
        "            return self.grades[student.get_id_num()][:]\n",
        "        except:\n",
        "            raise ValueError('Student not in mapping')\n",
        "    \n",
        "    def get_students(self):\n",
        "        \"\"\"Return a sorted list of the students in the grade book\"\"\"\n",
        "        if not self.is_sorted:\n",
        "            self.students.sort()\n",
        "            self.is_sorted = True\n",
        "        return self.students[:] \n",
        "    \n",
        "    def get_students_above(self, grade):\n",
        "      \"\"\"Return the students a mean grade > g one at a time\"\"\"\n",
        "      for s in self.students:\n",
        "        grades = self.get_grades(s)\n",
        "        \n",
        "        if len(grades) > 0 and (sum(grades) / len(grades)) > grade:\n",
        "          yield str(s), (sum(grades) / len(grades))\n",
        "\n",
        "def grade_result(course):\n",
        "    \"\"\"Assumes course is of type Grades\"\"\"\n",
        "    report = ''\n",
        "    for s in course.get_students():\n",
        "        tot = 0.0\n",
        "        num_grades = 0\n",
        "        for g in course.get_grades(s):\n",
        "            tot += g\n",
        "            num_grades += 1\n",
        "        try:\n",
        "            average = tot/num_grades\n",
        "            report = report + '\\n'\\\n",
        "                            + str(s) + '\\'s mean grade is ' + str(average)\n",
        "        except ZeroDivisionError:\n",
        "            report = report + '\\n'\\\n",
        "                     + str(s) + ' has no grades'\n",
        "    return report"
      ],
      "metadata": {
        "id": "bJaTrhNC_wDj"
      },
      "execution_count": 17,
      "outputs": []
    },
    {
      "cell_type": "code",
      "source": [
        "ug1 = UG('Alice', 2014)\n",
        "ug2 = UG('Bob', 2015)\n",
        "ug3 = UG('Charlie', 2003)\n",
        "grad1 = Grad('Billy')\n",
        "grad2 = Grad('Joy')\n",
        "grad3= Grad('Leo')\n",
        "\n",
        "grades = Grades()\n",
        "grades.add_student(ug1)\n",
        "grades.add_student(ug2)\n",
        "grades.add_student(ug3)\n",
        "grades.add_student(grad1)\n",
        "grades.add_student(grad2)\n",
        "grades.add_student(grad3)\n",
        "\n",
        "for s in grades.get_students():\n",
        "    grades.add_grade(s, 75)\n",
        "   \n",
        "grades.add_grade(grad1, 25)\n",
        "grades.add_grade(grad2, 100)\n",
        "print(grade_result(grades))\n",
        "\n",
        "for s in grades.get_students_above(70):\n",
        "  print(\"Grades greater than 70%:\",s)"
      ],
      "metadata": {
        "colab": {
          "base_uri": "https://localhost:8080/"
        },
        "id": "nTSwQj2bCHjt",
        "outputId": "376cbb94-e15d-4fcc-c964-3584c736d18a"
      },
      "execution_count": 23,
      "outputs": [
        {
          "output_type": "stream",
          "name": "stdout",
          "text": [
            "\n",
            "Alice's mean grade is 75.0\n",
            "Bob's mean grade is 75.0\n",
            "Charlie's mean grade is 75.0\n",
            "Billy's mean grade is 50.0\n",
            "Joy's mean grade is 87.5\n",
            "Leo's mean grade is 75.0\n",
            "Grades greater than 70%: ('Alice', 75.0)\n",
            "Grades greater than 70%: ('Bob', 75.0)\n",
            "Grades greater than 70%: ('Charlie', 75.0)\n",
            "Grades greater than 70%: ('Joy', 87.5)\n",
            "Grades greater than 70%: ('Leo', 75.0)\n"
          ]
        }
      ]
    },
    {
      "cell_type": "code",
      "source": [],
      "metadata": {
        "id": "Md0sd8IZFg4C"
      },
      "execution_count": null,
      "outputs": []
    }
  ]
}