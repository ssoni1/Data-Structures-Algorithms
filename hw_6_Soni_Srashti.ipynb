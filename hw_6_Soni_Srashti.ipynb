{
  "nbformat": 4,
  "nbformat_minor": 0,
  "metadata": {
    "colab": {
      "provenance": []
    },
    "kernelspec": {
      "name": "python3",
      "display_name": "Python 3"
    },
    "language_info": {
      "name": "python"
    }
  },
  "cells": [
    {
      "cell_type": "markdown",
      "source": [
        "#### What is the asymptotic complexity of each of the following functions?<br>\n",
        "   def g(L, e):<br>\n",
        "      \"\"\"L a list of ints, e is an int\"\"\"<br>\n",
        "      for i in range(100):<br>\n",
        "          for e1 in L:<br>\n",
        "              if e1 == e:<br>\n",
        "                  return True<br>\n",
        "      return False<br>\n",
        "  def h(L, e):<br>\n",
        "      \"\"\"L a list of ints, e is an int\"\"\"<br>\n",
        "      for i in range(e):<br>\n",
        "          for e1 in L:<br>\n",
        "              if e1 == e:<br>\n",
        "                  return True<br>\n",
        "      return False<br>\n"
      ],
      "metadata": {
        "id": "nLFmRiL11fIF"
      }
    },
    {
      "cell_type": "code",
      "execution_count": 1,
      "metadata": {
        "id": "MboGV5F8zGvz"
      },
      "outputs": [],
      "source": [
        "def g(L, e):\n",
        "      \"\"\"L a list of ints, e is an int\"\"\"\n",
        "      for i in range(100):\n",
        "          for e1 in L:\n",
        "              if e1 == e:\n",
        "                  return True"
      ]
    },
    {
      "cell_type": "markdown",
      "source": [
        "The function g(L, e) has a worst-case time complexity of O(100n) or simply O(n), where n is the length of the list L. This is because the outside loop iterates 100 times, whereas the inner loop iterates n times in the worst scenario. At most n times, and for a certain amount of time, the inner loop's if statement is executed. Therefore, the time complexity of g(L, e) is O(n)."
      ],
      "metadata": {
        "id": "d1CsQ1b_11dK"
      }
    },
    {
      "cell_type": "code",
      "source": [
        "def h(L, e):\n",
        "\n",
        "  for i in range(e): #e\n",
        "\n",
        "    for e1 in L:  #Len(L)\n",
        "\n",
        "      if e1 == e:\n",
        "\n",
        "        return True\n",
        "  \n",
        "  return False\n"
      ],
      "metadata": {
        "id": "FM-DdmZi10qf"
      },
      "execution_count": 2,
      "outputs": []
    },
    {
      "cell_type": "markdown",
      "source": [
        "The worst-case time complexity of the function h(L, e) is O(en) or O(n2), where n is the length of the list L. This is due to the fact that, in the worst scenario, the inner loop iterates n times while the outer loop iterates e times. At most n times, and for a certain amount of time, the inner loop's if statement is executed. Therefore, the time complexity of h(L, e) is O(en) or O(n^2), depending on the value of e."
      ],
      "metadata": {
        "id": "gOWLVsLr2RaT"
      }
    }
  ]
}