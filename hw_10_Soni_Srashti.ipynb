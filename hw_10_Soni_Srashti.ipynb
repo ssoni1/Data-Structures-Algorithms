{
  "nbformat": 4,
  "nbformat_minor": 0,
  "metadata": {
    "colab": {
      "provenance": []
    },
    "kernelspec": {
      "name": "python3",
      "display_name": "Python 3"
    },
    "language_info": {
      "name": "python"
    }
  },
  "cells": [
    {
      "cell_type": "markdown",
      "source": [
        "####Create a sample code of partitioning. Use 5 as k argumemnt."
      ],
      "metadata": {
        "id": "CxWr0SXUy37b"
      }
    },
    {
      "cell_type": "code",
      "execution_count": 1,
      "metadata": {
        "id": "iMNYiMIHykK6"
      },
      "outputs": [],
      "source": [
        "import numpy as np\n",
        "\n",
        "rng = np.random.RandomState(0)\n",
        "x = rng.randint(10, size=(10, 10))"
      ]
    },
    {
      "cell_type": "code",
      "source": [
        "x"
      ],
      "metadata": {
        "colab": {
          "base_uri": "https://localhost:8080/"
        },
        "id": "U33qgpBXzH_x",
        "outputId": "4f6f5fd5-89c6-49c7-b2d2-d5902b977e97"
      },
      "execution_count": 2,
      "outputs": [
        {
          "output_type": "execute_result",
          "data": {
            "text/plain": [
              "array([[5, 0, 3, 3, 7, 9, 3, 5, 2, 4],\n",
              "       [7, 6, 8, 8, 1, 6, 7, 7, 8, 1],\n",
              "       [5, 9, 8, 9, 4, 3, 0, 3, 5, 0],\n",
              "       [2, 3, 8, 1, 3, 3, 3, 7, 0, 1],\n",
              "       [9, 9, 0, 4, 7, 3, 2, 7, 2, 0],\n",
              "       [0, 4, 5, 5, 6, 8, 4, 1, 4, 9],\n",
              "       [8, 1, 1, 7, 9, 9, 3, 6, 7, 2],\n",
              "       [0, 3, 5, 9, 4, 4, 6, 4, 4, 3],\n",
              "       [4, 4, 8, 4, 3, 7, 5, 5, 0, 1],\n",
              "       [5, 9, 3, 0, 5, 0, 1, 2, 4, 2]])"
            ]
          },
          "metadata": {},
          "execution_count": 2
        }
      ]
    },
    {
      "cell_type": "code",
      "source": [
        "#y-axis Partitioning\n",
        "print(\"Y-axis:\\n\\n\",np.partition(x,5,axis=0)) \n",
        "#x-axis Partitioning\n",
        "print(\"X-axis:\\n\\n\",np.partition(x,5,axis=1))          "
      ],
      "metadata": {
        "colab": {
          "base_uri": "https://localhost:8080/"
        },
        "id": "7Uyx13FSzLFh",
        "outputId": "a755063c-f452-4c1c-840d-5990663a916d"
      },
      "execution_count": 3,
      "outputs": [
        {
          "output_type": "stream",
          "name": "stdout",
          "text": [
            "Y-axis:\n",
            "\n",
            " [[0 0 1 1 1 3 0 1 0 1]\n",
            " [5 1 0 0 3 0 1 2 2 0]\n",
            " [4 3 3 3 3 3 2 3 0 0]\n",
            " [2 3 3 4 4 3 3 5 2 1]\n",
            " [0 4 5 4 4 4 3 4 4 1]\n",
            " [5 4 5 5 5 6 3 5 4 2]\n",
            " [8 6 8 7 6 7 4 6 4 2]\n",
            " [7 9 8 9 7 8 7 7 5 3]\n",
            " [5 9 8 8 9 9 5 7 7 9]\n",
            " [9 9 8 9 7 9 6 7 8 4]]\n",
            "X-axis:\n",
            "\n",
            " [[0 2 3 3 3 4 5 5 9 7]\n",
            " [1 1 7 6 6 7 7 8 8 8]\n",
            " [3 0 3 0 4 5 5 8 9 9]\n",
            " [1 1 0 2 3 3 3 7 8 3]\n",
            " [2 0 0 2 3 4 7 7 9 9]\n",
            " [0 1 4 4 4 5 5 6 8 9]\n",
            " [1 3 1 2 6 7 7 8 9 9]\n",
            " [3 0 3 4 4 4 4 5 6 9]\n",
            " [0 1 3 4 4 4 7 5 8 5]\n",
            " [0 0 1 2 2 3 4 5 9 5]]\n"
          ]
        }
      ]
    },
    {
      "cell_type": "markdown",
      "source": [
        "####Create a sample structure array using following specification:\n",
        "####name: OrderDate, format: unicode maximum 8 characters\n",
        "####name: OrderAmount, format: float 8-bytes\n",
        "####name: OrderNumber, format: integer 4-bytes\n",
        "####name: OrderName, format: unicode maximum 20 characters"
      ],
      "metadata": {
        "id": "x83FA5sM13wd"
      }
    },
    {
      "cell_type": "code",
      "source": [
        "data = np.dtype({'names':('OrderDate', 'OrderAmount', 'OrderNumber','OrderName'),\n",
        "                          'formats':('U8', 'f8', 'i4','U20')})"
      ],
      "metadata": {
        "id": "iZfmf2HA03Tl"
      },
      "execution_count": 5,
      "outputs": []
    },
    {
      "cell_type": "code",
      "source": [
        "data"
      ],
      "metadata": {
        "colab": {
          "base_uri": "https://localhost:8080/"
        },
        "id": "eb5h64t-3GXO",
        "outputId": "a3b5b096-3075-4d1a-ad21-7e95ea7faa20"
      },
      "execution_count": 6,
      "outputs": [
        {
          "output_type": "execute_result",
          "data": {
            "text/plain": [
              "dtype([('OrderDate', '<U8'), ('OrderAmount', '<f8'), ('OrderNumber', '<i4'), ('OrderName', '<U20')])"
            ]
          },
          "metadata": {},
          "execution_count": 6
        }
      ]
    },
    {
      "cell_type": "markdown",
      "source": [
        "####3. Using 2, create a NumPy array of 10 elements with proper initialization of the structured array. Note order numbers must be between 101 - 110."
      ],
      "metadata": {
        "id": "8s2rGf-O4BfS"
      }
    },
    {
      "cell_type": "code",
      "source": [
        "OrderDate=['04062023','04072023','04082023','04092023','04102023','04112023','04122023','04132023','04142023','04152023']\n",
        "OrderAmount=[50.00,100.00,150.00,200.00,250.00,300.00,350.00,400.00,450.00,500.00]\n",
        "OrderNumber=[101,102,103,104,105,106,107,108,109,110]\n",
        "OrderName=['Any', 'Many', 'Alia', 'Kaela','Mili','Ant','Gem','Fire','Hope','Faith']\n",
        "\n",
        "data = np.zeros(10,dtype={'names':('OrderDate', 'OrderAmount', 'OrderNumber','OrderName'),'formats':('U8', 'f8', 'i4','U20')}) \n",
        "\n",
        "# Value assignments to the structured array\n",
        "data['OrderDate'] = OrderDate\n",
        "data['OrderAmount'] = OrderAmount\n",
        "data['OrderNumber'] = OrderNumber\n",
        "data['OrderName'] = OrderName\n",
        "\n",
        "print(data)"
      ],
      "metadata": {
        "colab": {
          "base_uri": "https://localhost:8080/"
        },
        "id": "DlAVaTT03RLn",
        "outputId": "a51cc26d-5474-43c4-b0e7-ad6c8872ba4a"
      },
      "execution_count": 7,
      "outputs": [
        {
          "output_type": "stream",
          "name": "stdout",
          "text": [
            "[('04062023',  50., 101, 'Any') ('04072023', 100., 102, 'Many')\n",
            " ('04082023', 150., 103, 'Alia') ('04092023', 200., 104, 'Kaela')\n",
            " ('04102023', 250., 105, 'Mili') ('04112023', 300., 106, 'Ant')\n",
            " ('04122023', 350., 107, 'Gem') ('04132023', 400., 108, 'Fire')\n",
            " ('04142023', 450., 109, 'Hope') ('04152023', 500., 110, 'Faith')]\n"
          ]
        }
      ]
    },
    {
      "cell_type": "markdown",
      "source": [
        "#### 4. Using the array in #3, filter the array to return orders with order number less than 105."
      ],
      "metadata": {
        "id": "znxkw7XP5_oF"
      }
    },
    {
      "cell_type": "code",
      "source": [
        "print(data[data['OrderNumber']<105])"
      ],
      "metadata": {
        "colab": {
          "base_uri": "https://localhost:8080/"
        },
        "id": "WBIthv3b53be",
        "outputId": "42d7c832-d25e-4dc8-bdb6-aebb1ea80d60"
      },
      "execution_count": 8,
      "outputs": [
        {
          "output_type": "stream",
          "name": "stdout",
          "text": [
            "[('04062023',  50., 101, 'Any') ('04072023', 100., 102, 'Many')\n",
            " ('04082023', 150., 103, 'Alia') ('04092023', 200., 104, 'Kaela')]\n"
          ]
        }
      ]
    },
    {
      "cell_type": "markdown",
      "source": [
        "####5. Using the code snippet below, fill-in the cell to generate the array as shown at the bottom.\n",
        "You will need to use fancy indexing and masking. <br>\n",
        "Select rows with indices 0, 3, 4, 6, 7<br>\n",
        "Use column masking to return every other columns. The first column will be returned, 2nd column will not and so on.<br>"
      ],
      "metadata": {
        "id": "iUMaT7FI6wid"
      }
    },
    {
      "cell_type": "code",
      "source": [
        "# Selecting rows with indices 0, 3, 4, 6, 7\n",
        "rows = [0, 3, 4, 6, 7]\n",
        "selected_rows = x[rows]\n",
        "\n",
        "# Using column masking to return every other columns\n",
        "columns = np.arange(0, x.shape[1], 2)\n",
        "selected_columns = selected_rows[:, columns]\n",
        "\n",
        "print(selected_columns)"
      ],
      "metadata": {
        "colab": {
          "base_uri": "https://localhost:8080/"
        },
        "id": "TvIqgTxA7OiG",
        "outputId": "1768ae58-e749-47d9-a782-fd8a019a1771"
      },
      "execution_count": 10,
      "outputs": [
        {
          "output_type": "stream",
          "name": "stdout",
          "text": [
            "[[5 3 7 3 2]\n",
            " [2 8 3 3 0]\n",
            " [9 0 7 2 2]\n",
            " [8 1 9 3 7]\n",
            " [0 5 4 6 4]]\n"
          ]
        }
      ]
    }
  ]
}