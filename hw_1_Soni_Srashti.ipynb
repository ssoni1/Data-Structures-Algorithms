{
  "nbformat": 4,
  "nbformat_minor": 0,
  "metadata": {
    "colab": {
      "provenance": []
    },
    "kernelspec": {
      "name": "python3",
      "display_name": "Python 3"
    },
    "language_info": {
      "name": "python"
    }
  },
  "cells": [
    {
      "cell_type": "code",
      "execution_count": 1,
      "metadata": {
        "colab": {
          "base_uri": "https://localhost:8080/"
        },
        "id": "SgmSfrp4yHVZ",
        "outputId": "aaee9cea-4132-4561-d15c-d2cfede99710"
      },
      "outputs": [
        {
          "name": "stdout",
          "output_type": "stream",
          "text": [
            "Name:Srashti Soni\n"
          ]
        }
      ],
      "source": [
        "#Using input function, prompt user to enter his/her name\n",
        "name = input('Name:')"
      ]
    },
    {
      "cell_type": "code",
      "source": [
        "#Using input function, prompt user to enter an integer number\n",
        "num = int(input())"
      ],
      "metadata": {
        "colab": {
          "base_uri": "https://localhost:8080/"
        },
        "id": "TJM44uSryWhm",
        "outputId": "01b566d4-bb02-411d-a5cb-8eb79a37e24c"
      },
      "execution_count": 2,
      "outputs": [
        {
          "name": "stdout",
          "output_type": "stream",
          "text": [
            "5\n"
          ]
        }
      ]
    },
    {
      "cell_type": "code",
      "source": [
        "#Print out the user's name repeated by the number of the second second input.\n",
        "i = 0\n",
        "while i < num:\n",
        "  print(name)\n",
        "  i += 1"
      ],
      "metadata": {
        "colab": {
          "base_uri": "https://localhost:8080/"
        },
        "id": "EixhUdoiy3IT",
        "outputId": "a081d85d-e79a-416e-aaa6-c662a1427c59"
      },
      "execution_count": 3,
      "outputs": [
        {
          "output_type": "stream",
          "name": "stdout",
          "text": [
            "Srashti Soni\n",
            "Srashti Soni\n",
            "Srashti Soni\n",
            "Srashti Soni\n",
            "Srashti Soni\n"
          ]
        }
      ]
    }
  ]
}