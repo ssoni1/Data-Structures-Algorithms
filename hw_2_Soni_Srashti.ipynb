{
  "nbformat": 4,
  "nbformat_minor": 0,
  "metadata": {
    "colab": {
      "provenance": []
    },
    "kernelspec": {
      "name": "python3",
      "display_name": "Python 3"
    },
    "language_info": {
      "name": "python"
    }
  },
  "cells": [
    {
      "cell_type": "markdown",
      "source": [
        "####Week 02 Assignment\n",
        "####Submitted By: Srashti Soni (Cv33938)"
      ],
      "metadata": {
        "id": "W-qaZNPazgpM"
      }
    },
    {
      "cell_type": "markdown",
      "source": [
        "####Finger Exercises:\n",
        "#####1. Change the code in Figure 3-2 so that it returns the largest rather than the smallest divisor. Hint: if y*z = x and y is the smallest divisor of x, z is the largest divisor of x.\n",
        "#####2. Write a program that asks the user to enter an integer and prints two integers, root and pwr, such that 1 < pwr < 6 and root**pwr is equal to the integer entered by the user. If no such pair of integers exists, it should print a message to that effect.\n",
        "#####3. Write a program that prints the sum of the prime numbers greater than 2 and less than 1000. Hint: you probably want to have a loop that is a primality test nested inside a loop that iterates over the odd integers between 3 and 999.\n",
        "#####4. Use the find_root function in Figure 4-3 to print the sum of approximations to the square root of 25, the cube root of -8, and the fourth root of 16. Use 0.001 as epsilon.\n",
        "#####5. Write a function is_in that accepts two strings as arguments and returns True if either string occurs anywhere in the other, and False otherwise. Hint: you might want to use the built-in str operator in.\n",
        "#####6. Write a function to test is_in.\n",
        "#####7. Write a function mult that accepts either one or two ints as arguments. If called with two arguments, the function prints the product of the two arguments. If called with one argument, it prints that argument.\n",
        "#####8. Using the algorithm of Figure 3-6, write a function that satisfies the specification\n"
      ],
      "metadata": {
        "id": "dtOG8V9ixx1K"
      }
    },
    {
      "cell_type": "code",
      "execution_count": null,
      "metadata": {
        "id": "9xBRJxcywkxl",
        "colab": {
          "base_uri": "https://localhost:8080/"
        },
        "outputId": "a00f529b-50ca-4ee3-e39d-4cc31622822f"
      },
      "outputs": [
        {
          "output_type": "stream",
          "name": "stdout",
          "text": [
            "Enter an integer : 100\n",
            "Largest divisor of 100 is 50\n"
          ]
        }
      ],
      "source": [
        "#1. Change the code in Figure 3-2 so that it returns the largest rather than the smallest divisor. Hint: if y*z = x and y is the smallest divisor of x, z is the largest divisor of x.\n",
        "x = int(input(\"Enter an integer : \"))\n",
        "largest_divisor = 0\n",
        "\n",
        "for guess in range(2, x):\n",
        "    if x % guess == 0:\n",
        "        largest_divisor = guess\n",
        "\n",
        "print(\"Largest divisor of {} is {}\".format(x,largest_divisor))\n"
      ]
    },
    {
      "cell_type": "code",
      "source": [
        "#2. Write a program that asks the user to enter an integer and prints two integers, root and pwr, such that 1 < pwr < 6 and root**pwr is equal to the integer entered by the user. If no such pair of integers exists, it should print a message to that effect.\n",
        "def find_root_and_pwr(n):\n",
        "    for pwr in range(2, 6):\n",
        "        for root in range(1, n):\n",
        "            if root ** pwr == n:\n",
        "                return root, pwr\n",
        "    return None\n",
        "\n",
        "n = int(input(\"Enter an integer: \"))\n",
        "result = find_root_and_pwr(n)\n",
        "\n",
        "if result:\n",
        "    root, pwr = result\n",
        "    print(\"root:\", root, \"pwr:\", pwr)\n",
        "else:\n",
        "    print(\"No such pair of integers exists.\")"
      ],
      "metadata": {
        "colab": {
          "base_uri": "https://localhost:8080/"
        },
        "id": "jXxTbNMiqlbr",
        "outputId": "28ffccc1-851d-4efb-971f-068b87ebb058"
      },
      "execution_count": null,
      "outputs": [
        {
          "output_type": "stream",
          "name": "stdout",
          "text": [
            "Enter an integer: 625\n",
            "root: 25 pwr: 2\n"
          ]
        }
      ]
    },
    {
      "cell_type": "code",
      "source": [
        "# 3. Write a program that prints the sum of the prime numbers greater than 2 and less than 1000. Hint: you probably want to have a loop that is a primality test nested inside a loop that iterates over the odd integers between 3 and 999.\n",
        "max = 1000\n",
        "\n",
        "sum = 0\n",
        "\n",
        "for num in range(3, max + 1):\n",
        "\n",
        "    i = 3\n",
        "    \n",
        "    for i in range(3, num):\n",
        "        if (int(num % i) == 0):\n",
        "            i = num\n",
        "            break;\n",
        "\n",
        "    if i is not num:\n",
        "        sum += num\n",
        "\n",
        "print(\"\\nSum of all prime numbers upto\", max, \":\", sum)"
      ],
      "metadata": {
        "colab": {
          "base_uri": "https://localhost:8080/"
        },
        "id": "8klqVPP3tJxD",
        "outputId": "379b0e4f-81a5-41e2-a04c-d853fe26fe82"
      },
      "execution_count": null,
      "outputs": [
        {
          "output_type": "stream",
          "name": "stdout",
          "text": [
            "\n",
            "Sum of all prime numbers upto 1000 : 76126\n"
          ]
        }
      ]
    },
    {
      "cell_type": "code",
      "source": [
        "# 4. Use the find_root function in Figure 4-3 to print the sum of approximations to the square root of 25, the cube root of -8, and the fourth root of 16. Use 0.001 as epsilon.\n",
        "def find_root(x, power, epsilon):\n",
        "  if x < 0 and power%2 == 0:\n",
        "    return None\n",
        "  low = min(-1,x)\n",
        "  high = round(max(1,x))\n",
        "\n",
        "  ans=(high+low)/2\n",
        "  while abs(ans**power - x) >= epsilon:\n",
        "    if ans**power < x:\n",
        "      low = ans\n",
        "    else:\n",
        "      high = ans\n",
        "    ans = (high + low)/2\n",
        "  return ans\n",
        "\n",
        "y1=find_root(25,2,0.001)\n",
        "y2=find_root(-8,3,0.001)\n",
        "y3=find_root(16,4,0.001)\n",
        "print('square root of 25:',y1)\n",
        "print('cube root of -8',y2)\n",
        "print('fourth root of 16',y3)\n",
        "sum = y1+y2+y3\n",
        "print(\"Answer\",sum)"
      ],
      "metadata": {
        "colab": {
          "base_uri": "https://localhost:8080/"
        },
        "id": "mPu75Y-muG_J",
        "outputId": "9dbb44e6-cef0-4b65-bee2-4859bc700736"
      },
      "execution_count": 3,
      "outputs": [
        {
          "output_type": "stream",
          "name": "stdout",
          "text": [
            "square root of 25: 4.9999237060546875\n",
            "cube root of -8 -1.9999542236328125\n",
            "fourth root of 16 2.000019073486328\n",
            "Answer 4.999988555908203\n"
          ]
        }
      ]
    },
    {
      "cell_type": "code",
      "source": [
        "# 5. Write a function is_in that accepts two strings as arguments and returns True if either string occurs anywhere in the other, and False otherwise. Hint: you might want to use the built-in str operator in.\n",
        "def is_in(a, b):\n",
        "    return a in b or b in a"
      ],
      "metadata": {
        "id": "-Nxc3gffuz9B"
      },
      "execution_count": null,
      "outputs": []
    },
    {
      "cell_type": "code",
      "source": [
        "# 6. Write a function to test is_in.\n",
        "def test_is_in():\n",
        "    assert is_in(\"hello\", \"hello world\") == True\n",
        "    assert is_in(\"world\", \"hello world\") == True\n",
        "    assert is_in(\"hey\", \"hello world\") == False\n",
        "    assert is_in(\"\", \"hello world\") == True\n",
        "    print(\"All tests passed.\")\n",
        "\n",
        "test_is_in()"
      ],
      "metadata": {
        "colab": {
          "base_uri": "https://localhost:8080/"
        },
        "id": "oHxFQYZNwgjp",
        "outputId": "6fc85c2c-a8b3-4497-e918-976c6f2d9f15"
      },
      "execution_count": null,
      "outputs": [
        {
          "output_type": "stream",
          "name": "stdout",
          "text": [
            "All tests passed.\n"
          ]
        }
      ]
    },
    {
      "cell_type": "code",
      "source": [
        "# 7. Write a function mult that accepts either one or two ints as arguments. If called with two arguments, the function prints the product of the two arguments. If called with one argument, it prints that argument.\n",
        "def mult(num1,num2=False):\n",
        "  \n",
        "  if num2==False:\n",
        "    return num1\n",
        "  else:\n",
        "    return num1*num2\n",
        "\n",
        "print(mult(3,4))"
      ],
      "metadata": {
        "colab": {
          "base_uri": "https://localhost:8080/"
        },
        "id": "mLjeIB8UwuVE",
        "outputId": "682bdc56-599c-4405-d5fe-e3f5785677f7"
      },
      "execution_count": null,
      "outputs": [
        {
          "output_type": "stream",
          "name": "stdout",
          "text": [
            "12\n"
          ]
        }
      ]
    },
    {
      "cell_type": "code",
      "source": [
        "# 8. Using the algorithm of Figure 3-6, write a function that satisfies the specification\n",
        "\n",
        "def log(x,base,epsilon):\n",
        "\n",
        "  if (x>1 & epsilon>0):\n",
        "    lower_bound = 0\n",
        "    base = int(base)\n",
        "\n",
        "    while base**lower_bound < x:\n",
        "      lower_bound += 1\n",
        "\n",
        "    low = lower_bound - 1\n",
        "    high = lower_bound + 1\n",
        "\n",
        "    ans = float((high + low)/2)\n",
        "\n",
        "    while abs(base**ans - x) >= epsilon:\n",
        "      if 2**ans < x:\n",
        "        low = ans\n",
        "      else:\n",
        "        high = ans\n",
        "      ans = float((high + low)/2)\n",
        "    \n",
        "    if ans >= 1:\n",
        "      print(ans, 'is close to the log base ', base, ' of ', x)\n",
        "    else:\n",
        "      print(\"Specifications are not satisfied!\")\n",
        "\n",
        "  else:\n",
        "    print(\"Specifications are not satisfied!\")\n",
        "\n",
        "print(log(2.1,0.01,2))\n"
      ],
      "metadata": {
        "colab": {
          "base_uri": "https://localhost:8080/"
        },
        "id": "bqDaFesQxr9K",
        "outputId": "1375827b-b55f-4638-80c0-0871fe713b32"
      },
      "execution_count": 11,
      "outputs": [
        {
          "output_type": "stream",
          "name": "stdout",
          "text": [
            "Specifications are not satisfied!\n",
            "None\n"
          ]
        }
      ]
    }
  ]
}